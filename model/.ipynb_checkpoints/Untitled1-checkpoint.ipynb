{
 "cells": [
  {
   "cell_type": "code",
   "execution_count": 1,
   "metadata": {},
   "outputs": [],
   "source": [
    "from tensorflow.keras.models import load_model"
   ]
  },
  {
   "cell_type": "code",
   "execution_count": 3,
   "metadata": {},
   "outputs": [],
   "source": [
    "model = load_model('model_nn (2).h5')"
   ]
  },
  {
   "cell_type": "code",
   "execution_count": 4,
   "metadata": {},
   "outputs": [
    {
     "data": {
      "text/plain": [
       "[<tensorflow.python.keras.layers.convolutional.Conv2D at 0x148ec80a0>,\n",
       " <tensorflow.python.keras.layers.pooling.MaxPooling2D at 0x148ef32e0>,\n",
       " <tensorflow.python.keras.layers.convolutional.Conv2D at 0x148f2b430>,\n",
       " <tensorflow.python.keras.layers.pooling.MaxPooling2D at 0x148f2b880>,\n",
       " <tensorflow.python.keras.layers.core.Flatten at 0x148f405e0>,\n",
       " <tensorflow.python.keras.layers.core.Dropout at 0x148f40a30>,\n",
       " <tensorflow.python.keras.layers.core.Dense at 0x148f4f250>,\n",
       " <tensorflow.python.keras.layers.core.Dropout at 0x148f6db20>,\n",
       " <tensorflow.python.keras.layers.core.Dense at 0x148ef3fa0>,\n",
       " <tensorflow.python.keras.layers.core.Dropout at 0x148f8e220>,\n",
       " <tensorflow.python.keras.layers.core.Dense at 0x148f8e670>]"
      ]
     },
     "execution_count": 4,
     "metadata": {},
     "output_type": "execute_result"
    }
   ],
   "source": [
    "model.layers"
   ]
  },
  {
   "cell_type": "code",
   "execution_count": 7,
   "metadata": {},
   "outputs": [],
   "source": [
    "import cv2\n",
    "import numpy as np"
   ]
  },
  {
   "cell_type": "code",
   "execution_count": 19,
   "metadata": {},
   "outputs": [],
   "source": [
    "image = cv2.imread('woman-wearing-mask.jpg')\n",
    "image = cv2.cvtColor(image, cv2.COLOR_BGR2GRAY)\n"
   ]
  },
  {
   "cell_type": "code",
   "execution_count": 20,
   "metadata": {},
   "outputs": [],
   "source": [
    "# model.predict(image)"
   ]
  },
  {
   "cell_type": "code",
   "execution_count": 21,
   "metadata": {},
   "outputs": [],
   "source": [
    "cascade = cv2.CascadeClassifier('haarcascade_frontalface_default.xml')\n",
    "(w, h, x, y) = cascade.detectMultiScale(image, 1.3, 5)[0]\n",
    "image = image[y:y+h, x:x+w]"
   ]
  },
  {
   "cell_type": "code",
   "execution_count": null,
   "metadata": {},
   "outputs": [],
   "source": [
    "# image = cv2.resize(image, (100, 100))\n",
    "# image = image/255.0\n",
    "# image = np.reshape(image, (1, 100, 100, 1))\n",
    "# image.shape"
   ]
  }
 ],
 "metadata": {
  "kernelspec": {
   "display_name": "Python 3",
   "language": "python",
   "name": "python3"
  },
  "language_info": {
   "codemirror_mode": {
    "name": "ipython",
    "version": 3
   },
   "file_extension": ".py",
   "mimetype": "text/x-python",
   "name": "python",
   "nbconvert_exporter": "python",
   "pygments_lexer": "ipython3",
   "version": "3.8.3"
  }
 },
 "nbformat": 4,
 "nbformat_minor": 4
}
